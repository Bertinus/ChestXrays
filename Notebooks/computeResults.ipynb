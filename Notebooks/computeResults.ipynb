{
 "cells": [
  {
   "cell_type": "markdown",
   "metadata": {},
   "source": [
    "# Compute Results"
   ]
  },
  {
   "cell_type": "markdown",
   "metadata": {},
   "source": [
    "This notebook reads the predictions of a model and computes the AUCs for each desease"
   ]
  },
  {
   "cell_type": "code",
   "execution_count": null,
   "metadata": {},
   "outputs": [],
   "source": [
    "import pandas as pd\n",
    "import numpy as np\n",
    "from sklearn.model_selection import ShuffleSplit\n",
    "from sklearn.metrics import roc_auc_score, roc_curve\n",
    "\n",
    "n_splits = 10  # Number of randomized splits to compute standard deviations\n",
    "split = ShuffleSplit(n_splits=n_splits, test_size=0.5, random_state=0)\n",
    "\n",
    "pathologies = [\"Atelectasis\", \"Consolidation\", \"Infiltration\",\n",
    "               \"Pneumothorax\", \"Edema\", \"Emphysema\", \"Fibrosis\", \"Effusion\", \"Pneumonia\",\n",
    "               \"Pleural_Thickening\", \"Cardiomegaly\", \"Nodule\", \"Mass\", \"Hernia\"]\n",
    "\n",
    "original_paper_results = [\"0.8094\", \"0.7901\", \"0.7345\",\n",
    "                          \"0.8887\", \"0.8878\", \"0.9371\", \"0.8047\", \"0.8638\", \"0.7680\",\n",
    "                          \"0.8062\", \"0.9248\", \"0.7802\", \"0.8676\", \"0.9164\"]"
   ]
  },
  {
   "cell_type": "code",
   "execution_count": 17,
   "metadata": {},
   "outputs": [],
   "source": [
    "all_labels_path = \"/home/user1/Desktop/Plots/server_model_arnoweng_pad/all_labels_8.npy\"\n",
    "all_outputs_path = \"/home/user1/Desktop/Plots/server_model_arnoweng_pad/all_outputs_8.npy\""
   ]
  },
  {
   "cell_type": "code",
   "execution_count": 18,
   "metadata": {},
   "outputs": [],
   "source": [
    "all_labels = np.load(all_labels_path)\n",
    "all_outputs = np.load(all_outputs_path)"
   ]
  },
  {
   "cell_type": "code",
   "execution_count": 19,
   "metadata": {},
   "outputs": [
    {
     "name": "stdout",
     "output_type": "stream",
     "text": [
      "(30000, 14)\n",
      "(30000, 14)\n"
     ]
    }
   ],
   "source": [
    "print(all_outputs.shape)\n",
    "all_labels = all_labels[~np.isnan(all_outputs).any(axis=1)]\n",
    "all_outputs = all_outputs[~np.isnan(all_outputs).any(axis=1)]\n",
    "print(all_outputs.shape)"
   ]
  },
  {
   "cell_type": "code",
   "execution_count": 20,
   "metadata": {},
   "outputs": [
    {
     "name": "stdout",
     "output_type": "stream",
     "text": [
      "# Results\n",
      "\n",
      "| desease | them  |  us  |\n",
      "|---|---|---|\n",
      "| Atelectasis | 0.8094 | 0.8355 +- 0.0050 |\n",
      "| Consolidation | 0.7901 | 0.8868 +- 0.0086 |\n",
      "| Infiltration | 0.7345 | 0.6597 +- 0.0089 |\n",
      "| Pneumothorax | 0.8887 | 0.8310 +- 0.0143 |\n",
      "| Edema | 0.8878 | 0.9450 +- 0.0063 |\n",
      "| Emphysema | 0.9371 | 0.7951 +- 0.0101 |\n",
      "| Fibrosis | 0.8047 | 0.8186 +- 0.0165 |\n",
      "| Effusion | 0.8638 | 0.9491 +- 0.0039 |\n",
      "| Pneumonia | 0.7680 | 0.7866 +- 0.0054 |\n",
      "| Pleural_Thickening | 0.8062 | 0.7574 +- 0.0073 |\n",
      "| Cardiomegaly | 0.9248 | 0.9202 +- 0.0026 |\n",
      "| Nodule | 0.7802 | 0.7120 +- 0.0093 |\n",
      "| Mass | 0.8676 | 0.8293 +- 0.0137 |\n",
      "| Hernia | 0.9164 | 0.8328 +- 0.0040 |\n"
     ]
    }
   ],
   "source": [
    "print(\"# Results\\n\\n| desease | them  |  us  |\\n|---|---|---|\")\n",
    "\n",
    "for i in range(14):\n",
    "    if (all_labels[:, i] == 0).all():\n",
    "        print(\"|\", pathologies[i], \"|\", original_paper_results[i], \"|\", \"ERR |\")\n",
    "    else:\n",
    "        # Compute AUC and STD with randomized splits\n",
    "        split_auc = [roc_auc_score(all_labels[split_index, i][np.isfinite(all_labels[split_index, i])],\n",
    "                                   all_outputs[split_index, i][np.isfinite(all_labels[split_index, i])])\n",
    "                     for split_index, _ in split.split(all_outputs) if\n",
    "                     not (all_labels[split_index, i] == 0).all()]\n",
    "\n",
    "        auc = np.mean(split_auc)\n",
    "        std = np.std(split_auc)\n",
    "\n",
    "        print(\"|\", pathologies[i], \"|\", original_paper_results[i], \"|\",\n",
    "              str(auc)[:6], \"+-\", str(std)[:6], \"|\")\n",
    "\n"
   ]
  },
  {
   "cell_type": "code",
   "execution_count": null,
   "metadata": {},
   "outputs": [],
   "source": []
  },
  {
   "cell_type": "code",
   "execution_count": null,
   "metadata": {},
   "outputs": [],
   "source": []
  }
 ],
 "metadata": {
  "kernelspec": {
   "display_name": "Python 3",
   "language": "python",
   "name": "python3"
  },
  "language_info": {
   "codemirror_mode": {
    "name": "ipython",
    "version": 3
   },
   "file_extension": ".py",
   "mimetype": "text/x-python",
   "name": "python",
   "nbconvert_exporter": "python",
   "pygments_lexer": "ipython3",
   "version": "3.7.4"
  }
 },
 "nbformat": 4,
 "nbformat_minor": 2
}
