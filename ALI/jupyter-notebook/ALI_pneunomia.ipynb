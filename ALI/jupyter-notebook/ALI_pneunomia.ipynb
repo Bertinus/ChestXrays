{
 "cells": [
  {
   "cell_type": "code",
   "execution_count": 1,
   "metadata": {},
   "outputs": [],
   "source": [
    "from model import *\n",
    "from AliLoader import *\n",
    "from ALI_Out import *\n",
    "\n",
    "from torch.utils.data import DataLoader\n",
    "import torchvision.datasets as dset\n",
    "from torch.autograd import Variable\n",
    "import torch.optim as optim\n",
    "import numpy as np\n",
    "import matplotlib.pyplot as plt\n",
    "from matplotlib.colors import ListedColormap\n",
    "from sklearn import manifold\n",
    "from sklearn import metrics\n",
    "from scipy import stats\n",
    "from AliMisc import *\n",
    "\n",
    "from skopt.space import Real, Integer\n",
    "from skopt import Optimizer\n",
    "\n",
    "import seaborn as sns"
   ]
  },
  {
   "cell_type": "code",
   "execution_count": 2,
   "metadata": {},
   "outputs": [],
   "source": [
    "def GetAlphaRedMap(cmap):\n",
    "    #Print Rebuild\n",
    "    # Get the colormap colors\n",
    "    AlphaRed = cmap(np.arange(cmap.N))\n",
    "    # Set alpha\n",
    "    AlphaRed[:,-1] = np.linspace(0, 1, cmap.N)\n",
    "    # Create new colormap\n",
    "    AlphaRed = ListedColormap(AlphaRed)\n",
    "    return(AlphaRed)\n",
    "AlphaRed = GetAlphaRedMap(plt.cm.Reds)\n",
    "AlphaBllue = GetAlphaRedMap(plt.cm.Blues)"
   ]
  },
  {
   "cell_type": "code",
   "execution_count": 3,
   "metadata": {},
   "outputs": [],
   "source": [
    "\n",
    "LS = 512 #Latent Space Size\n",
    "ColorsNumber = 1 #Number of color (always 1 for x-ray)\n",
    "isize = 64\n",
    "\n",
    "name = \"Exp_64_512_0.00001_RandomLabel_4.0\"\n",
    "\n",
    "datadir = \"./ChestXray-NIHCC-2/\"\n",
    "\n",
    "ExpDir = \"./model/\"+name\n",
    "\n"
   ]
  },
  {
   "cell_type": "markdown",
   "metadata": {},
   "source": [
    "Load dataset"
   ]
  },
  {
   "cell_type": "code",
   "execution_count": 4,
   "metadata": {},
   "outputs": [
    {
     "ename": "FileNotFoundError",
     "evalue": "[Errno 2] No such file or directory: './ChestXray-NIHCC-2/PreProcess/Size64/Tensor64.pt'",
     "output_type": "error",
     "traceback": [
      "\u001b[0;31m---------------------------------------------------------------------------\u001b[0m",
      "\u001b[0;31mFileNotFoundError\u001b[0m                         Traceback (most recent call last)",
      "\u001b[0;32m<ipython-input-4-2ab4f4a06a8a>\u001b[0m in \u001b[0;36m<module>\u001b[0;34m\u001b[0m\n\u001b[1;32m      4\u001b[0m \u001b[0;34m\u001b[0m\u001b[0m\n\u001b[1;32m      5\u001b[0m \u001b[0mPreProDir\u001b[0m \u001b[0;34m=\u001b[0m \u001b[0mdatadir\u001b[0m\u001b[0;34m+\u001b[0m\u001b[0;34m\"PreProcess/Size\"\u001b[0m\u001b[0;34m+\u001b[0m\u001b[0mstr\u001b[0m\u001b[0;34m(\u001b[0m\u001b[0misize\u001b[0m\u001b[0;34m)\u001b[0m\u001b[0;34m\u001b[0m\u001b[0m\n\u001b[0;32m----> 6\u001b[0;31m \u001b[0mtest_dataset\u001b[0m \u001b[0;34m=\u001b[0m \u001b[0mXrayDatasetTensor\u001b[0m\u001b[0;34m(\u001b[0m\u001b[0mPreProDir\u001b[0m\u001b[0;34m+\u001b[0m\u001b[0;34m\"/Tensor\"\u001b[0m\u001b[0;34m+\u001b[0m\u001b[0mstr\u001b[0m\u001b[0;34m(\u001b[0m\u001b[0misize\u001b[0m\u001b[0;34m)\u001b[0m\u001b[0;34m+\u001b[0m\u001b[0;34m\".pt\"\u001b[0m\u001b[0;34m,\u001b[0m\u001b[0mPreProDir\u001b[0m\u001b[0;34m+\u001b[0m\u001b[0;34m\"/AllImagesInfo.csv\"\u001b[0m\u001b[0;34m,\u001b[0m\u001b[0mlist\u001b[0m\u001b[0;34m(\u001b[0m\u001b[0mTestDF\u001b[0m\u001b[0;34m[\u001b[0m\u001b[0;34m\"name\"\u001b[0m\u001b[0;34m]\u001b[0m\u001b[0;34m)\u001b[0m\u001b[0;34m)\u001b[0m\u001b[0;34m\u001b[0m\u001b[0m\n\u001b[0m\u001b[1;32m      7\u001b[0m \u001b[0mRealLoader\u001b[0m \u001b[0;34m=\u001b[0m \u001b[0mDataLoader\u001b[0m\u001b[0;34m(\u001b[0m\u001b[0mtest_dataset\u001b[0m\u001b[0;34m,\u001b[0m \u001b[0mshuffle\u001b[0m\u001b[0;34m=\u001b[0m\u001b[0;32mFalse\u001b[0m\u001b[0;34m,\u001b[0m \u001b[0mbatch_size\u001b[0m\u001b[0;34m=\u001b[0m\u001b[0mbatch_size\u001b[0m\u001b[0;34m)\u001b[0m\u001b[0;34m\u001b[0m\u001b[0m\n\u001b[1;32m      8\u001b[0m \u001b[0;34m\u001b[0m\u001b[0m\n",
      "\u001b[0;32m/media/vince/MILA/ChestXrays/ALI/AliLoader.py\u001b[0m in \u001b[0;36m__init__\u001b[0;34m(self, TensorName, FullDF, Names)\u001b[0m\n\u001b[1;32m    297\u001b[0m     \u001b[0;32mdef\u001b[0m \u001b[0m__init__\u001b[0m\u001b[0;34m(\u001b[0m\u001b[0mself\u001b[0m\u001b[0;34m,\u001b[0m \u001b[0mTensorName\u001b[0m\u001b[0;34m,\u001b[0m\u001b[0mFullDF\u001b[0m\u001b[0;34m,\u001b[0m\u001b[0mNames\u001b[0m\u001b[0;34m)\u001b[0m\u001b[0;34m:\u001b[0m\u001b[0;34m\u001b[0m\u001b[0m\n\u001b[1;32m    298\u001b[0m \u001b[0;34m\u001b[0m\u001b[0m\n\u001b[0;32m--> 299\u001b[0;31m         \u001b[0mself\u001b[0m\u001b[0;34m.\u001b[0m\u001b[0mImgTensor\u001b[0m \u001b[0;34m=\u001b[0m \u001b[0mtorch\u001b[0m\u001b[0;34m.\u001b[0m\u001b[0mload\u001b[0m\u001b[0;34m(\u001b[0m\u001b[0mTensorName\u001b[0m\u001b[0;34m)\u001b[0m\u001b[0;34m\u001b[0m\u001b[0m\n\u001b[0m\u001b[1;32m    300\u001b[0m \u001b[0;34m\u001b[0m\u001b[0m\n\u001b[1;32m    301\u001b[0m         \u001b[0mdf\u001b[0m \u001b[0;34m=\u001b[0m \u001b[0mpd\u001b[0m\u001b[0;34m.\u001b[0m\u001b[0mread_csv\u001b[0m\u001b[0;34m(\u001b[0m\u001b[0mFullDF\u001b[0m\u001b[0;34m)\u001b[0m\u001b[0;34m\u001b[0m\u001b[0m\n",
      "\u001b[0;32m/media/vince/anaconda3/envs/xray/lib/python3.6/site-packages/torch/serialization.py\u001b[0m in \u001b[0;36mload\u001b[0;34m(f, map_location, pickle_module)\u001b[0m\n\u001b[1;32m    354\u001b[0m             \u001b[0;34m(\u001b[0m\u001b[0msys\u001b[0m\u001b[0;34m.\u001b[0m\u001b[0mversion_info\u001b[0m\u001b[0;34m[\u001b[0m\u001b[0;36m0\u001b[0m\u001b[0;34m]\u001b[0m \u001b[0;34m==\u001b[0m \u001b[0;36m3\u001b[0m \u001b[0;32mand\u001b[0m \u001b[0misinstance\u001b[0m\u001b[0;34m(\u001b[0m\u001b[0mf\u001b[0m\u001b[0;34m,\u001b[0m \u001b[0mpathlib\u001b[0m\u001b[0;34m.\u001b[0m\u001b[0mPath\u001b[0m\u001b[0;34m)\u001b[0m\u001b[0;34m)\u001b[0m\u001b[0;34m:\u001b[0m\u001b[0;34m\u001b[0m\u001b[0m\n\u001b[1;32m    355\u001b[0m         \u001b[0mnew_fd\u001b[0m \u001b[0;34m=\u001b[0m \u001b[0;32mTrue\u001b[0m\u001b[0;34m\u001b[0m\u001b[0m\n\u001b[0;32m--> 356\u001b[0;31m         \u001b[0mf\u001b[0m \u001b[0;34m=\u001b[0m \u001b[0mopen\u001b[0m\u001b[0;34m(\u001b[0m\u001b[0mf\u001b[0m\u001b[0;34m,\u001b[0m \u001b[0;34m'rb'\u001b[0m\u001b[0;34m)\u001b[0m\u001b[0;34m\u001b[0m\u001b[0m\n\u001b[0m\u001b[1;32m    357\u001b[0m     \u001b[0;32mtry\u001b[0m\u001b[0;34m:\u001b[0m\u001b[0;34m\u001b[0m\u001b[0m\n\u001b[1;32m    358\u001b[0m         \u001b[0;32mreturn\u001b[0m \u001b[0m_load\u001b[0m\u001b[0;34m(\u001b[0m\u001b[0mf\u001b[0m\u001b[0;34m,\u001b[0m \u001b[0mmap_location\u001b[0m\u001b[0;34m,\u001b[0m \u001b[0mpickle_module\u001b[0m\u001b[0;34m)\u001b[0m\u001b[0;34m\u001b[0m\u001b[0m\n",
      "\u001b[0;31mFileNotFoundError\u001b[0m: [Errno 2] No such file or directory: './ChestXray-NIHCC-2/PreProcess/Size64/Tensor64.pt'"
     ]
    }
   ],
   "source": [
    "batch_size = 25\n",
    "TestDF = pd.read_csv(ExpDir+\"/TestImagesInfo.csv\")\n",
    "\n",
    "\n",
    "PreProDir = datadir+\"PreProcess/Size\"+str(isize)\n",
    "test_dataset = XrayDatasetTensor(PreProDir+\"/Tensor\"+str(isize)+\".pt\",PreProDir+\"/AllImagesInfo.csv\",list(TestDF[\"name\"]))\n",
    "RealLoader = DataLoader(test_dataset, shuffle=False, batch_size=batch_size)\n",
    "\n",
    "#DiseaseDF = TestDF[TestDF[\"no_finding\"] != 1]\n",
    "#disease_dataset = XrayDatasetTensor(PreProDir+\"/Tensor\"+str(isize)+\".pt\",PreProDir+\"/AllImagesInfo.csv\",list(DiseaseDF[\"name\"]))\n",
    "#DiseaseLoader = DataLoader(disease_dataset, shuffle=False, batch_size=batch_size)\n",
    "#len(disease_dataset)"
   ]
  },
  {
   "cell_type": "code",
   "execution_count": null,
   "metadata": {},
   "outputs": [],
   "source": [
    "OtherXRayDir = \"./chest_xray//*/*/*.jpeg\"\n",
    "Pneunomia = PneunomiaXray(OtherXRayDir, isize=isize,nrows=100)\n",
    "PneuLoader = DataLoader(Pneunomia, shuffle=False, batch_size=batch_size)"
   ]
  },
  {
   "cell_type": "code",
   "execution_count": null,
   "metadata": {},
   "outputs": [],
   "source": [
    "OtherXRayDir = \"./reconstruct/*.jpeg\"\n",
    "APneunomia = PneunomiaXray(OtherXRayDir, isize=isize,nrows=100)\n",
    "APneuLoader = DataLoader(APneunomia, shuffle=False, batch_size=batch_size)"
   ]
  },
  {
   "cell_type": "code",
   "execution_count": null,
   "metadata": {},
   "outputs": [],
   "source": [
    "print(len(Pneunomia),len(APneunomia))"
   ]
  },
  {
   "cell_type": "code",
   "execution_count": null,
   "metadata": {},
   "outputs": [],
   "source": [
    "\n",
    "CP = -2 #Checkpoint to load (-2 for latest one, -1 for last epoch)\n",
    "DisX,DisZ,DisXZ,GenZ,GenX,CP,DiscriminatorLoss,AllAUCs = GenModel(isize,LS,-2,ExpDir,name,ColorsNumber=ColorsNumber)\n",
    "\n",
    "DisX = DisX.eval()\n",
    "DisZ = DisZ.eval()\n",
    "DisXZ = DisXZ.eval()\n",
    "GenZ = GenZ.eval()\n",
    "GenX = GenX.eval()\n",
    "\n"
   ]
  },
  {
   "cell_type": "code",
   "execution_count": null,
   "metadata": {},
   "outputs": [],
   "source": [
    "def RecLoss(GenX,GenZ,X):\n",
    "    GenX.eval()\n",
    "    GenZ.eval()\n",
    "    Z = GenZ(X)\n",
    "    Xr = GenX(Z)\n",
    "    \n",
    "    DiffX = Xr - X\n",
    "    DiffX = DiffX.detach().numpy()\n",
    "    DiffX = np.power(DiffX,2)\n",
    "    RecLoss = [np.sqrt(np.mean(x)) for x in DiffX]\n",
    "    Xr = Xr.detach().numpy()\n",
    "    Z = Z.detach().numpy()\n",
    "    Z = Z.reshape(Z.shape[0],Z.shape[1])\n",
    "    return(RecLoss,DiffX,Xr,Z)\n",
    "#Generate Alpha Red Map (so transparent) for error\n"
   ]
  },
  {
   "cell_type": "code",
   "execution_count": null,
   "metadata": {},
   "outputs": [],
   "source": []
  },
  {
   "cell_type": "code",
   "execution_count": null,
   "metadata": {},
   "outputs": [],
   "source": [
    "import time"
   ]
  },
  {
   "cell_type": "code",
   "execution_count": null,
   "metadata": {},
   "outputs": [],
   "source": [
    "\n",
    "#AllLoader = [RealLoader,MNIST_loader,otherxray,hflip,vflip,randray,DiseaseLoader]\n",
    "#Names = [\"ChestXray\",\"MNIST\",\"MURA\",\"hFlip\",\"vFlip\",\"Permuted\",\"Disease\"]\n",
    "\n",
    "AllLoader = [RealLoader,PneuLoader,APneuLoader]\n",
    "Names = [\"ChestXray\",\"Pneumonia\",\"aPneumonia\"]\n",
    "\n",
    "\n",
    "#AllLoader = [RealLoader]\n",
    "#Names = [\"ChestXray\"]\n",
    "\n",
    "BenchData = dict()\n",
    "test_size = 100\n",
    "for (load,name) in zip(AllLoader,Names):\n",
    "    BenchData[name] = dict()\n",
    "    \n",
    "    print(name)\n",
    "    \n",
    "    AllRecL = []\n",
    "    AllX = []\n",
    "    AllXr = []\n",
    "    AllPath = []\n",
    "    AllErr = []\n",
    "    AllLab = []\n",
    "    AllZ = []\n",
    "    endtime = time.time()\n",
    "    for Xi,path in load:\n",
    "        \n",
    "        if name == \"MNIST\":\n",
    "            path = path.detach().numpy()\n",
    "        inittime = time.time()\n",
    "        #print(inittime-endtime)\n",
    "        Xn = Xi*2.0 - 1\n",
    "        Rl,DiffX,Xr,Z = RecLoss(GenX,GenZ,Xn)\n",
    "        AllErr += list(DiffX)\n",
    "        AllXr += list(Xr)\n",
    "        AllRecL += Rl\n",
    "        AllX += list(Xn.detach().numpy())\n",
    "        AllZ += list(Z)\n",
    "        if len(path) == 2:\n",
    "            AllPath += list([p.split(\"/\")[-1] for p in path[0]])\n",
    "            AllLab += list(path[1])\n",
    "        else:\n",
    "            AllLab += list(path)\n",
    "        plt.imshow(DiffX[0][0],cmap=\"gray\")\n",
    "        plt.show()\n",
    "        \n",
    "        plt.imshow(Xr[0][0],cmap=\"gray\")\n",
    "        plt.show()\n",
    "        break\n",
    "        if len(AllRecL) > test_size:\n",
    "            AllRecL = AllRecL[:test_size]\n",
    "            AllErr = AllErr[:test_size]\n",
    "            AllPath = AllPath[:test_size]\n",
    "            AllLab = AllLab[:test_size]\n",
    "            AllX = AllX[:test_size]\n",
    "            AllZ = AllZ[:test_size]\n",
    "            AllXr = AllXr[:test_size]\n",
    "            break\n",
    "        endtime = time.time()\n",
    "    BenchData[name][\"RL\"]   = AllRecL\n",
    "    BenchData[name][\"Diff\"] = AllErr\n",
    "    BenchData[name][\"Recon\"] = AllXr\n",
    "    BenchData[name][\"Path\"] = AllPath\n",
    "    BenchData[name][\"Label\"] = AllLab\n",
    "    \n",
    "    BenchData[name][\"OriImg\"] = AllX\n",
    "    BenchData[name][\"Z\"] = AllZ\n"
   ]
  },
  {
   "cell_type": "code",
   "execution_count": null,
   "metadata": {},
   "outputs": [],
   "source": []
  },
  {
   "cell_type": "code",
   "execution_count": null,
   "metadata": {},
   "outputs": [],
   "source": []
  },
  {
   "cell_type": "code",
   "execution_count": null,
   "metadata": {},
   "outputs": [],
   "source": [
    "fig = plt.figure(figsize=(16,8))\n",
    "c = 1\n",
    "for i,name in enumerate(Names):\n",
    "    TestRL = BenchData[name][\"RL\"]\n",
    "    TestXr = BenchData[name][\"Recon\"]\n",
    "    TestX = BenchData[name][\"OriImg\"]\n",
    "    TestErr = BenchData[name][\"Diff\"]\n",
    "    for i in range(3):\n",
    "        plt.subplot(6,12,c)\n",
    "        plt.imshow(TestX[i][0],cmap=\"gray\")\n",
    "        c += 1\n",
    "        \n",
    "        plt.subplot(6,12,c)\n",
    "        plt.imshow(TestXr[i][0],cmap=\"gray\",vmax=1)\n",
    "        c += 1\n",
    "        \n",
    "        plt.subplot(6,12,c)\n",
    "        plt.imshow(TestErr[i][0],cmap=AlphaRed)\n",
    "        plt.title(\"%.2f\" % (TestRL[i]))\n",
    "        c += 1\n",
    "        c += 1\n",
    "        \n",
    "plt.show()\n"
   ]
  },
  {
   "cell_type": "code",
   "execution_count": null,
   "metadata": {},
   "outputs": [],
   "source": []
  },
  {
   "cell_type": "code",
   "execution_count": null,
   "metadata": {},
   "outputs": [],
   "source": [
    "\n",
    "fig = plt.figure(figsize=(15.5,8))\n",
    "SNScol = sns.color_palette()\n",
    "\n",
    "for i,name in enumerate(Names):\n",
    "    #Get Reconstruction loss\n",
    "    TestRL = BenchData[name][\"RL\"]\n",
    "    RealRL = BenchData[\"ChestXray\"][\"RL\"]\n",
    "    \n",
    "    #Concat\n",
    "    CatRl = RealRL + TestRL\n",
    "    \n",
    "    #Gen Label\n",
    "    Lab = [1]*len(RealRL)+[0]*len(TestRL)\n",
    "    \n",
    "    #Get AUC\n",
    "    fpr, tpr, thresholds = metrics.roc_curve(Lab,-np.array(CatRl), pos_label=1)\n",
    "    auc = metrics.auc(fpr, tpr)\n",
    "    lab =  \"%s %.2f\" % (name,auc)\n",
    "    if name == \"ChestXray\":\n",
    "        lab = name\n",
    "    #plt.hist(TestRL,label=lab, density=True,histtype=\"step\",bins=20,color=SNScol[i])\n",
    "    sns.kdeplot(TestRL, shade=True,label=lab,color=SNScol[i])\n",
    "#plt.legend(fontsize = 30,frameon=False,prop={\"family\":\"Sans Serif\"})\n",
    "plt.legend(fontsize = 15,frameon=False)\n",
    "\n",
    "plt.xlabel(\"Reconstruction Loss\",size=20)\n",
    "plt.ylabel(\"Density\",size=20)\n",
    "plt.xticks(size=20)\n",
    "plt.show()"
   ]
  },
  {
   "cell_type": "code",
   "execution_count": null,
   "metadata": {},
   "outputs": [],
   "source": [
    "pred = pd.read_csv(\"predictions.csv\").merge( pd.read_csv(\"uncertainty.csv\"),on=\"Image name\")\n"
   ]
  },
  {
   "cell_type": "code",
   "execution_count": null,
   "metadata": {},
   "outputs": [],
   "source": [
    "pred[\"True label Pneumonia\"] = pred[\"True label Pneumonia_y\"]"
   ]
  },
  {
   "cell_type": "code",
   "execution_count": null,
   "metadata": {},
   "outputs": [],
   "source": []
  },
  {
   "cell_type": "code",
   "execution_count": null,
   "metadata": {},
   "outputs": [],
   "source": [
    "fig = plt.figure(figsize=(8,8))\n",
    "fpr, tpr, thresholds = metrics.roc_curve(pred[\"True label Pneumonia\"],np.array(pred[\"Pneumonia\"]), pos_label=1)\n",
    "auc = metrics.auc(fpr, tpr)\n",
    "sns.kdeplot(pred[\"Pneumonia\"][pred[\"True label Pneumonia\"] == 0], shade=True,label=\"Healthy\")\n",
    "sns.kdeplot(pred[\"Pneumonia\"][pred[\"True label Pneumonia\"] == 1], shade=True,label=\"Pneumonia\")\n",
    "plt.title(\"AUC = %.2f\" % (auc))\n",
    "plt.show()\n"
   ]
  },
  {
   "cell_type": "code",
   "execution_count": null,
   "metadata": {},
   "outputs": [],
   "source": []
  },
  {
   "cell_type": "code",
   "execution_count": null,
   "metadata": {},
   "outputs": [],
   "source": [
    "subdf = pd.DataFrame([BenchData[\"Pneumonia\"][\"RL\"],BenchData[\"Pneumonia\"][\"Path\"]]).transpose()"
   ]
  },
  {
   "cell_type": "code",
   "execution_count": null,
   "metadata": {},
   "outputs": [],
   "source": [
    "subdf.columns = [\"RL\",\"Name\"]\n",
    "subdf.head()"
   ]
  },
  {
   "cell_type": "code",
   "execution_count": null,
   "metadata": {},
   "outputs": [],
   "source": [
    "test = pred.transpose().to_dict()"
   ]
  },
  {
   "cell_type": "code",
   "execution_count": null,
   "metadata": {},
   "outputs": [],
   "source": [
    "for k in test.keys():\n",
    "    for (rl,p) in zip(BenchData[\"Pneumonia\"][\"RL\"],BenchData[\"Pneumonia\"][\"Path\"]):\n",
    "        if p in test[k]['Image name']:\n",
    "            test[k][\"RL\"] = rl\n",
    "            break\n"
   ]
  },
  {
   "cell_type": "code",
   "execution_count": null,
   "metadata": {},
   "outputs": [],
   "source": [
    "MergePred = pd.DataFrame(test).transpose().sort_values(by=\"RL\")\n",
    "MergePred = MergePred.apply(pd.to_numeric, errors='ignore')"
   ]
  },
  {
   "cell_type": "code",
   "execution_count": null,
   "metadata": {},
   "outputs": [],
   "source": [
    "ToPrint = 1\n",
    "x = []\n",
    "y = []\n",
    "for i in range(400):\n",
    "    cut = 1.4 - i / 400\n",
    "    subdf = MergePred[MergePred[\"RL\"] < cut]\n",
    "    if len(subdf) < 100:\n",
    "        break\n",
    "    fpr, tpr, thresholds = metrics.roc_curve(subdf[\"True label Pneumonia\"],subdf[\"Pneumonia\"], pos_label=1)\n",
    "    auc = metrics.auc(fpr, tpr)\n",
    "    x.append(len(subdf)/len(MergePred)*100)\n",
    "    y.append(auc)\n",
    "    if cut <= 0.6:\n",
    "        if ToPrint == 1:\n",
    "            plt.scatter(len(subdf)/len(MergePred)*100,auc)\n",
    "            plt.text(len(subdf)/len(MergePred)*100,auc+0.0055,\"%.2f\" % (cut),horizontalalignment='center')\n",
    "            ToPrint = 0\n",
    "plt.plot(x,y,label=\"RecLoss outliers\")\n",
    "\n",
    "\n",
    "ToPrint = 1\n",
    "x = []\n",
    "y = []\n",
    "for i in range(400):\n",
    "    cut = 0.3 - i / 2000\n",
    "    subdf = MergePred[MergePred[\"stdPneumonia\"] < cut]\n",
    "    #print(cut,len(subdf))\n",
    "    if len(subdf) < 100:\n",
    "        print(i,cut,len(subdf))\n",
    "        break\n",
    "    fpr, tpr, thresholds = metrics.roc_curve(subdf[\"True label Pneumonia\"],subdf[\"Pneumonia\"], pos_label=1)\n",
    "    auc = metrics.auc(fpr, tpr)\n",
    "    x.append(len(subdf)/len(MergePred)*100)\n",
    "    y.append(auc)\n",
    "    \n",
    "plt.plot(x,y,label=\"MC drop\")\n",
    "plt.legend()\n",
    "plt.xlabel(\"Percent Retain\")\n",
    "plt.ylabel(\"Pneumoia AUROC\")\n",
    "plt.show()"
   ]
  },
  {
   "cell_type": "code",
   "execution_count": null,
   "metadata": {},
   "outputs": [],
   "source": [
    "MergePred[\"NormPneumonia\"] = MergePred[\"Pneumonia\"]/MergePred[\"Pneumonia\"].max()\n",
    "MergePred[\"Error\"] = np.power(MergePred[\"NormPneumonia\"]-MergePred[\"True label Pneumonia\"],2)"
   ]
  },
  {
   "cell_type": "code",
   "execution_count": null,
   "metadata": {},
   "outputs": [],
   "source": [
    "ax = sns.kdeplot(MergePred[\"Pneumonia\"][MergePred[\"True label Pneumonia\"] == 0], MergePred[\"RL\"][MergePred[\"True label Pneumonia\"] == 0],\n",
    "           cmap=AlphaBllue, shade=True, shade_lowest=False\n",
    "           )\n",
    "ax = sns.kdeplot(MergePred[\"Pneumonia\"][MergePred[\"True label Pneumonia\"] == 1], MergePred[\"RL\"][MergePred[\"True label Pneumonia\"] == 1],\n",
    "           cmap=AlphaRed, shade=True, shade_lowest=False\n",
    "           )\n",
    "plt.show()"
   ]
  },
  {
   "cell_type": "code",
   "execution_count": null,
   "metadata": {},
   "outputs": [],
   "source": [
    "fig = plt.figure(figsize=(8,8))\n",
    "fpr, tpr, thresholds = metrics.roc_curve(pred[\"True label Pneumonia\"],np.array(pred[\"Pneumonia\"]), pos_label=1)\n",
    "auc = metrics.auc(fpr, tpr)\n",
    "sns.kdeplot(pred[\"Pneumonia\"][pred[\"True label Pneumonia\"] == 0], shade=True,label=\"Healthy\")\n",
    "sns.kdeplot(pred[\"Pneumonia\"][pred[\"True label Pneumonia\"] == 1], shade=True,label=\"Pneumonia\")\n",
    "plt.title(\"AUC = %.2f\" % (auc))\n",
    "\n",
    "\n",
    "subdf = MergePred[MergePred[\"RL\"] < 0.6]\n",
    "fpr, tpr, thresholds = metrics.roc_curve(subdf[\"True label Pneumonia\"],np.array(subdf[\"Pneumonia\"]), pos_label=1)\n",
    "auc = metrics.auc(fpr, tpr)\n",
    "sns.kdeplot(subdf[\"Pneumonia\"][subdf[\"True label Pneumonia\"] == 0], shade=True,label=\"Healthy Out\")\n",
    "sns.kdeplot(subdf[\"Pneumonia\"][subdf[\"True label Pneumonia\"] == 1], shade=True,label=\"Pneumonia Out\")\n",
    "plt.title(\"AUC = %.2f\" % (auc))\n",
    "plt.xlabel(\"RecLoss\")\n",
    "plt.show()\n"
   ]
  },
  {
   "cell_type": "code",
   "execution_count": null,
   "metadata": {},
   "outputs": [],
   "source": [
    "fig = plt.figure(figsize=(8,8))\n",
    "fpr, tpr, thresholds = metrics.roc_curve(MergePred[\"True label Pneumonia\"],np.array(MergePred[\"RL\"]), pos_label=1)\n",
    "auc = metrics.auc(fpr, tpr)\n",
    "sns.kdeplot(MergePred[\"RL\"][MergePred[\"True label Pneumonia\"] == 0], shade=True,label=\"Healthy\")\n",
    "sns.kdeplot(MergePred[\"RL\"][MergePred[\"True label Pneumonia\"] == 1], shade=True,label=\"Pneumonia\")\n",
    "plt.title(\"AUC = %.2f\" % (auc))\n",
    "plt.xlabel(\"RecLoss\")\n",
    "plt.show()\n"
   ]
  },
  {
   "cell_type": "code",
   "execution_count": null,
   "metadata": {},
   "outputs": [],
   "source": [
    "\n",
    "plt.scatter(MergePred[\"stdPneumonia\"],MergePred[\"RL\"],s=0.2,\n",
    "            c=MergePred[\"Error\"],cmap=\"cool\")\n",
    "plt.colorbar()\n",
    "plt.xlabel(\"MC Dropout std\")\n",
    "plt.ylabel(\"Reconstruction Loss\")\n",
    "\n",
    "plt.show()\n",
    "\n",
    "plt.scatter(MergePred[\"stdPneumonia\"],MergePred[\"Error\"],s=0.2)\n",
    "plt.xlabel(\"MC Dropout std\")\n",
    "plt.ylabel(\"Error\")\n",
    "plt.show()\n",
    "\n",
    "plt.scatter(MergePred[\"RL\"],MergePred[\"Error\"],s=0.2)\n",
    "plt.xlabel(\"Rec Loss\")\n",
    "plt.ylabel(\"Error\")\n",
    "plt.show()\n"
   ]
  },
  {
   "cell_type": "code",
   "execution_count": null,
   "metadata": {},
   "outputs": [],
   "source": [
    "plt.scatter(MergePred[\"stdPneumonia\"],MergePred[\"Pneumonia\"])\n",
    "plt.xlabel(\"stdPneumonia\")\n",
    "plt.ylabel(\"Pneumonia\")"
   ]
  },
  {
   "cell_type": "code",
   "execution_count": null,
   "metadata": {},
   "outputs": [],
   "source": [
    "test = pd.read_csv(\"alignedprediction.csv\")\n",
    "fig = plt.figure(figsize=(8,8))\n",
    "fpr, tpr, thresholds = metrics.roc_curve(test[\"True label Pneumonia\"],np.array(test[\"Pneumonia\"]), pos_label=1)\n",
    "auc = metrics.auc(fpr, tpr)\n",
    "sns.kdeplot(test[\"Pneumonia\"][test[\"True label Pneumonia\"] == 0], shade=True,label=\"Healthy\")\n",
    "sns.kdeplot(test[\"Pneumonia\"][test[\"True label Pneumonia\"] == 1], shade=True,label=\"Pneumonia\")\n",
    "plt.title(\"AUC = %.2f\" % (auc))\n",
    "plt.show()"
   ]
  },
  {
   "cell_type": "code",
   "execution_count": null,
   "metadata": {},
   "outputs": [],
   "source": []
  },
  {
   "cell_type": "code",
   "execution_count": null,
   "metadata": {
    "scrolled": false
   },
   "outputs": [],
   "source": [
    "fig = plt.figure(figsize=(15.5,9))\n",
    "c = 1\n",
    "for i,name in enumerate([\"aPneumonia\"]):\n",
    "    RL = BenchData[name][\"RL\"]\n",
    "    Diff = BenchData[name][\"Diff\"] \n",
    "    img = BenchData[name][\"OriImg\"]\n",
    "    SortInd = np.argsort(RL)[::-1]\n",
    "    RankPrint = range(25)\n",
    "    for rp in RankPrint:\n",
    "        NowInd = SortInd[rp]\n",
    "        plt.subplot(5,10,c)\n",
    "        plt.title(\"%.2f\" % (RL[NowInd]))\n",
    "        plt.imshow(img[NowInd][0],cmap=\"gray\")\n",
    "        #plt.imshow(Diff[NowInd][0],cmap=AlphaRed,vmin=0, vmax=2)\n",
    "        plt.axis(\"off\")\n",
    "        \n",
    "        c += 1\n",
    "        \n",
    "    RankPrint = (np.array([len(SortInd)]*25) - np.array(range(25))-1)[::-1]\n",
    "    for rp in RankPrint:\n",
    "        NowInd = SortInd[rp]\n",
    "        plt.subplot(5,10,c)\n",
    "        plt.title(\"%.2f\" % (RL[NowInd]))\n",
    "        plt.imshow(img[NowInd][0],cmap=\"gray\")\n",
    "        #plt.imshow(Diff[NowInd][0],cmap=AlphaRed,vmin=0, vmax=2)\n",
    "        plt.axis(\"off\")\n",
    "        \n",
    "        c += 1\n",
    "plt.show()"
   ]
  },
  {
   "cell_type": "code",
   "execution_count": null,
   "metadata": {},
   "outputs": [],
   "source": [
    "len(SortInd)"
   ]
  },
  {
   "cell_type": "code",
   "execution_count": null,
   "metadata": {},
   "outputs": [],
   "source": []
  },
  {
   "cell_type": "code",
   "execution_count": null,
   "metadata": {},
   "outputs": [],
   "source": [
    "def OutScore(DisX,DisZ,DisXZ,GenZ,GenX,X):\n",
    "    \n",
    "    \n",
    "    z = GenZ(X)\n",
    "    Xr = GenX(z)\n",
    "    \n",
    "    #CatT= torch.cat((DisZ(z), DisX(X)), 1)\n",
    "    #PredFalse = DisXZ(CatT)\n",
    "    \n",
    "    DiffX = Xr - X\n",
    "    DiffX = DiffX.detach().numpy()\n",
    "    DiffX = np.power(DiffX,2)\n",
    "    RecLoss = [np.sqrt(np.mean(x)) for x in DiffX]\n",
    "    #PredFalse = PredFalse.detach().numpy()[0][0][0]\n",
    "    #return(RecLoss,PredFalse)\n",
    "    return(RecLoss)"
   ]
  },
  {
   "cell_type": "code",
   "execution_count": null,
   "metadata": {},
   "outputs": [],
   "source": [
    "def TransformPImg(pim,inputsize,ar):\n",
    "    tx = ar[0]\n",
    "    ty = ar[1]\n",
    "    rot = ar[2]\n",
    "    sc = ar[3]\n",
    "    brightness_factor = ar[4]\n",
    "    contrast_factor = ar[5]\n",
    "    tim = transforms.functional.affine(pim,angle=rot, translate=[tx,ty], \n",
    "                                                   scale=1, shear=0, resample=0, fillcolor=0)\n",
    "    \n",
    "    tim = transforms.functional.adjust_brightness(tim, brightness_factor)\n",
    "    tim = transforms.functional.adjust_contrast(tim, contrast_factor)\n",
    "    data_transforms = transforms.Compose([transforms.CenterCrop(sc)])\n",
    "    ftim = data_transforms(tim)\n",
    "    reim = transforms.functional.resize(ftim,inputsize)\n",
    "    tim = transforms.functional.to_tensor(reim)\n",
    "    tim = tim.reshape(1,1,inputsize,inputsize)\n",
    "    return(ftim,tim)\n",
    "    \n",
    "\n"
   ]
  },
  {
   "cell_type": "code",
   "execution_count": null,
   "metadata": {},
   "outputs": [],
   "source": []
  },
  {
   "cell_type": "code",
   "execution_count": null,
   "metadata": {
    "scrolled": false
   },
   "outputs": [],
   "source": [
    "\n",
    "\n",
    "\n",
    "imgs = BenchData[\"Pneumonia\"][\"Path\"]\n",
    "RL = BenchData[\"Pneumonia\"][\"RL\"]\n",
    "RandInt = 20\n",
    "Explore = 10\n",
    "\n",
    "\n",
    "RandInt = 5\n",
    "Explore = 10\n",
    "\n",
    "\n",
    "#RandInt = 10\n",
    "#Explore = 2\n",
    "\n",
    "fig = plt.figure(figsize=(15.5,8))\n",
    "c = 0\n",
    "\n",
    "\n",
    "SortInd = np.argsort(RL)[::-1]\n",
    "RankPrint = [0,1,2,3,4,5,6,7,int(len(RL)/4),int(len(RL)/2),int(len(RL)/4*3),len(RL)-5,len(RL)-4,len(RL)-3,len(RL)-2,len(RL)-1]\n",
    "for rp in RankPrint:\n",
    "    ind = SortInd[rp]\n",
    "    imgf = BenchData[\"Pneumonia\"][\"Path\"][ind]\n",
    "    ptf = glob.glob(\"./chest_xray/*/*/*\"+ imgf)[0]\n",
    "    im = misc.imread(ptf)\n",
    "    if len(im.shape) > 2:\n",
    "        im = im[:, :, 0]\n",
    "    #Add color chanel\n",
    "    im = im[:,:,None]\n",
    "\n",
    "    padding = 0\n",
    "    if im.shape[0] > im.shape[1]:\n",
    "        padding = (int((im.shape[0]-im.shape[1])/2),0)\n",
    "    else:\n",
    "        padding = (0,int((im.shape[1]-im.shape[0])/2))\n",
    "\n",
    "    data_transforms = transforms.Compose([\n",
    "        transforms.ToPILImage(),\n",
    "        transforms.Pad(padding,fill=0)\n",
    "    ])\n",
    "    pim = data_transforms(im)\n",
    "    \n",
    "    #pim = transforms.functional.to_pil_image(im)\n",
    "    \n",
    "    space  = [Integer(-200, 200, name='tx'),\n",
    "          Integer(-200, 200, name='ty'),\n",
    "          Real(-5,5, name='rot'),\n",
    "          Integer(int(np.max(im.shape)/2), np.max(im.shape), name='sc'),\n",
    "          Real(0.8,1.2, name='Bright'),\n",
    "          Real(0.8,1.2, name='Contrast')\n",
    "          ]\n",
    "   \n",
    "    \n",
    "    \n",
    "    opt = Optimizer(space)\n",
    "\n",
    "    #Get random value\n",
    "    \n",
    "    \n",
    "    Fimg = []\n",
    "    Errs = []\n",
    "    for it in range(Explore):\n",
    "        RandTest = []\n",
    "        if it == 0:\n",
    "            RandTest.append([0,0,0,np.max(im.shape),1,1])\n",
    "            \n",
    "        totest = opt.ask(n_points=RandInt)\n",
    "        RandTest += totest\n",
    "        TensorTsc = torch.tensor([])\n",
    "        for i in range(RandInt):\n",
    "            FullImg,TensorImg = TransformPImg(pim,isize,RandTest[i])\n",
    "            Fimg.append(FullImg)\n",
    "            TensorTsc = torch.cat((TensorTsc,TensorImg),0)\n",
    "        rl = OutScore(DisX,DisZ,DisXZ,GenZ,GenX,TensorTsc*2.0-1.0)\n",
    "        for i in range(RandInt):\n",
    "            opt.tell(RandTest[i], rl[i])\n",
    "            #print(rl[i],RandTest[i])\n",
    "        Errs += rl\n",
    "        \n",
    "        tsort = np.argsort(Errs)\n",
    "        Errs = [Errs[tsort[0]]]\n",
    "        Fimg = [Fimg[tsort[0]]]\n",
    "        BestXi = opt.Xi[np.argsort(opt.yi)[0]]\n",
    "        print(it,BestXi,np.sort(opt.yi)[0],BenchData[\"Pneumonia\"][\"RL\"][ind])\n",
    "    c += 1\n",
    "    plt.subplot(4,8,c)\n",
    "    plt.imshow(pim,cmap=\"gray\")\n",
    "    plt.title(\"%.2f\" % (BenchData[\"Pneumonia\"][\"RL\"][ind]))\n",
    "    plt.axis(\"off\")  \n",
    "    c += 1\n",
    "    plt.subplot(4,8,c)    \n",
    "    plt.imshow(Fimg[0],cmap=\"gray\")\n",
    "    plt.title(\"%.2f\" % (Errs[0]))\n",
    "    plt.axis(\"off\")\n",
    "    \n",
    "    BestXi = opt.Xi[np.argsort(opt.yi)[0]]\n",
    "    print(BestXi,np.sort(opt.yi)[0],BenchData[\"Pneumonia\"][\"RL\"][ind])\n",
    "plt.show()"
   ]
  },
  {
   "cell_type": "code",
   "execution_count": null,
   "metadata": {},
   "outputs": [],
   "source": [
    "Fimg"
   ]
  },
  {
   "cell_type": "code",
   "execution_count": null,
   "metadata": {},
   "outputs": [],
   "source": []
  }
 ],
 "metadata": {
  "kernelspec": {
   "display_name": "Python [conda env:xray]",
   "language": "python",
   "name": "conda-env-xray-py"
  },
  "language_info": {
   "codemirror_mode": {
    "name": "ipython",
    "version": 3
   },
   "file_extension": ".py",
   "mimetype": "text/x-python",
   "name": "python",
   "nbconvert_exporter": "python",
   "pygments_lexer": "ipython3",
   "version": "3.6.6"
  }
 },
 "nbformat": 4,
 "nbformat_minor": 2
}
