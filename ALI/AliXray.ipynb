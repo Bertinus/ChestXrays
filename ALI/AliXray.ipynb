{
 "cells": [
  {
   "cell_type": "code",
   "execution_count": 1,
   "metadata": {},
   "outputs": [],
   "source": [
    "import torch\n",
    "import sys\n",
    "import os\n",
    "import pandas as pd\n",
    "from scipy import misc\n",
    "from torchvision import transforms\n",
    "from torch.utils.data import Dataset\n",
    "\n",
    "from torch.utils.data import DataLoader\n",
    "import numpy as np\n",
    "import imageio\n",
    "import matplotlib.pyplot as plt\n",
    "\n",
    "import torch.nn as nn\n",
    "import torch.nn.functional as F\n",
    "\n",
    "from sklearn.metrics import roc_auc_score, roc_curve\n",
    "\n",
    "from model import *\n",
    "from AliLoader import *"
   ]
  },
  {
   "cell_type": "code",
   "execution_count": 2,
   "metadata": {},
   "outputs": [],
   "source": [
    "LS = 20 #Latent Space Size\n",
    "batch_size = 12\n",
    "ColorsNumber = 1\n",
    "\n",
    "#Encoder param\n",
    "EncKernel = [5,4,4,4,4,1,1]\n",
    "EncStride = [1,2,1,2,1,1,1]\n",
    "EncDepth = [32,64,128,256,512,512,LS]\n",
    "\n",
    "#Generator param\n",
    "GenKernel = [4,4,4,4,5,1,1]\n",
    "GenStride = [1,2,1,2,1,1,1]\n",
    "GenDepth = [256,128,64,32,32,32,ColorsNumber]\n",
    "\n",
    "#Discriminator X param\n",
    "DxKernel = [5,4,4,4,4]\n",
    "DxStride = [1,2,1,2,1]\n",
    "DxDepth = [32,64,128,256,512]\n",
    "\n",
    "#Discriminator Z param\n",
    "DzKernel = [1,1]\n",
    "DzStride = [1,1]\n",
    "DzDepth = [512,512]\n",
    "\n",
    "#Concat Discriminator param\n",
    "DxzKernel = [1,1,1]\n",
    "DxzStride = [1,1,1]\n",
    "DxzDepth = [1024,1024,1]\n",
    "\n"
   ]
  },
  {
   "cell_type": "code",
   "execution_count": 3,
   "metadata": {},
   "outputs": [],
   "source": [
    "datadir = \"./images/\"\n"
   ]
  },
  {
   "cell_type": "code",
   "execution_count": null,
   "metadata": {},
   "outputs": [],
   "source": []
  },
  {
   "cell_type": "code",
   "execution_count": 4,
   "metadata": {},
   "outputs": [
    {
     "name": "stdout",
     "output_type": "stream",
     "text": [
      "501\n"
     ]
    }
   ],
   "source": [
    "# Transformations\n",
    "inputsize = [224, 224]\n",
    "inputsize = [32,32]\n",
    "data_transforms = transforms.Compose([\n",
    "    transforms.ToPILImage(),\n",
    "    transforms.Resize(inputsize),\n",
    "    transforms.ToTensor(),\n",
    "    #transforms.Lambda(lambda x: x.repeat(3, 1, 1))\n",
    "    # transforms.Normalize(mean=[0.485, 0.456, 0.406], std=[0.229, 0.224, 0.225]),\n",
    "])\n",
    "\n",
    "# Initialize dataloader\n",
    "dataset = XrayDataset(datadir, transform=data_transforms)\n",
    "dataloader = DataLoader(dataset, shuffle=True, batch_size=batch_size)\n",
    "\n",
    "ConstantImg = DataLoader(dataset, shuffle=False, batch_size=9)\n",
    "\n",
    "print(len(dataset))"
   ]
  },
  {
   "cell_type": "code",
   "execution_count": 5,
   "metadata": {},
   "outputs": [
    {
     "name": "stdout",
     "output_type": "stream",
     "text": [
      "torch.Size([1, 1, 32, 32])\n"
     ]
    },
    {
     "data": {
      "image/png": "[encoded data removed]",
      "text/plain": [
       "<Figure size 432x288 with 1 Axes>"
      ]
     },
     "metadata": {
      "needs_background": "light"
     },
     "output_type": "display_data"
    }
   ],
   "source": [
    "\n",
    "\n",
    "    \n",
    "    \n",
    "GenX = Generator(latent_size=LS,KS=GenKernel,ST=GenStride,DP=GenDepth)\n",
    "fkim = GenX(torch.rand(1,LS,1,1))\n",
    "print(fkim.shape)\n",
    "plt.imshow(fkim.detach().numpy()[0][0])\n",
    "plt.show()"
   ]
  },
  {
   "cell_type": "code",
   "execution_count": 6,
   "metadata": {},
   "outputs": [],
   "source": [
    "class Maxout(nn.Module):\n",
    "    def __init__(self, pool_size):\n",
    "        super().__init__()\n",
    "        self._pool_size = pool_size\n",
    "\n",
    "    def forward(self, x):\n",
    "        assert x.shape[-1] % self._pool_size == 0, \\\n",
    "            'Wrong input last dim size ({}) for Maxout({})'.format(x.shape[-1], self._pool_size)\n",
    "        m, i = x.view(*x.shape[:-1], x.shape[-1] // self._pool_size, self._pool_size).max(-1)\n",
    "        return m"
   ]
  },
  {
   "cell_type": "code",
   "execution_count": null,
   "metadata": {},
   "outputs": [],
   "source": []
  },
  {
   "cell_type": "code",
   "execution_count": 7,
   "metadata": {},
   "outputs": [],
   "source": [
    "#torch.nn.Conv2d(in_channels, out_channels, kernel_size, stride=1, padding=0, dilation=1, groups=1, bias=True)\n"
   ]
  },
  {
   "cell_type": "code",
   "execution_count": null,
   "metadata": {},
   "outputs": [],
   "source": []
  },
  {
   "cell_type": "code",
   "execution_count": null,
   "metadata": {},
   "outputs": [],
   "source": []
  },
  {
   "cell_type": "code",
   "execution_count": null,
   "metadata": {},
   "outputs": [],
   "source": []
  },
  {
   "cell_type": "code",
   "execution_count": 8,
   "metadata": {},
   "outputs": [],
   "source": [
    "import torch.optim as optim\n",
    "\n",
    "\n",
    "\n",
    "\n",
    "DisX = DiscriminatorX(KS=DxKernel,ST=DxStride,DP=DxDepth)\n",
    "DisZ = DiscriminatorZ(KS=DzKernel,ST=DzStride,DP=DzDepth,LS=LS)\n",
    "DisXZ = DiscriminatorXZ(KS=DxzKernel,ST=DxzStride,DP=DxzDepth)\n",
    "\n",
    "GenZ = Encoder(KS=EncKernel,ST=EncStride,DP=EncDepth,LS=LS)\n",
    "GenX = Generator(latent_size=LS,KS=GenKernel,ST=GenStride,DP=GenDepth)\n",
    "\n",
    "    \n"
   ]
  },
  {
   "cell_type": "code",
   "execution_count": 9,
   "metadata": {},
   "outputs": [],
   "source": [
    "for dataiter in ConstantImg:\n",
    "    #Get Data\n",
    "    data = dataiter\n",
    "    data_norm = data*2.0-1.0\n",
    "    break"
   ]
  },
  {
   "cell_type": "code",
   "execution_count": 10,
   "metadata": {},
   "outputs": [],
   "source": [
    "\n",
    "\n",
    "lr = 1e-4\n",
    "b1 = 0.5\n",
    "b2 = 1e-3\n",
    "optimizerG = optim.Adam([{'params' : GenX.parameters()},\n",
    "                         {'params' : GenZ.parameters()}], lr=lr, betas=(b1,b2))\n",
    "\n",
    "optimizerD = optim.Adam([{'params' : DisZ.parameters()},{'params': DisX.parameters()},\n",
    "                         {'params' : DisXZ.parameters()}], lr=lr, betas=(b1,b2))\n",
    "\n",
    "DiscriminatorLoss = []\n"
   ]
  },
  {
   "cell_type": "code",
   "execution_count": 11,
   "metadata": {
    "scrolled": false
   },
   "outputs": [
    {
     "ename": "KeyboardInterrupt",
     "evalue": "",
     "output_type": "error",
     "traceback": [
      "\u001b[0;31m---------------------------------------------------------------------------\u001b[0m",
      "\u001b[0;31mKeyboardInterrupt\u001b[0m                         Traceback (most recent call last)",
      "\u001b[0;32m<ipython-input-11-e1ee96e8672b>\u001b[0m in \u001b[0;36m<module>\u001b[0;34m\u001b[0m\n\u001b[1;32m     52\u001b[0m \u001b[0;34m\u001b[0m\u001b[0m\n\u001b[1;32m     53\u001b[0m         \u001b[0moptimizerD\u001b[0m\u001b[0;34m.\u001b[0m\u001b[0mzero_grad\u001b[0m\u001b[0;34m(\u001b[0m\u001b[0;34m)\u001b[0m\u001b[0;34m\u001b[0m\u001b[0m\n\u001b[0;32m---> 54\u001b[0;31m         \u001b[0mloss_d\u001b[0m\u001b[0;34m.\u001b[0m\u001b[0mbackward\u001b[0m\u001b[0;34m(\u001b[0m\u001b[0mretain_graph\u001b[0m\u001b[0;34m=\u001b[0m\u001b[0;32mTrue\u001b[0m\u001b[0;34m)\u001b[0m\u001b[0;34m\u001b[0m\u001b[0m\n\u001b[0m\u001b[1;32m     55\u001b[0m         \u001b[0moptimizerD\u001b[0m\u001b[0;34m.\u001b[0m\u001b[0mstep\u001b[0m\u001b[0;34m(\u001b[0m\u001b[0;34m)\u001b[0m\u001b[0;34m\u001b[0m\u001b[0m\n\u001b[1;32m     56\u001b[0m \u001b[0;34m\u001b[0m\u001b[0m\n",
      "\u001b[0;32m/media/vince/anaconda3/envs/xray/lib/python3.6/site-packages/torch/tensor.py\u001b[0m in \u001b[0;36mbackward\u001b[0;34m(self, gradient, retain_graph, create_graph)\u001b[0m\n\u001b[1;32m     91\u001b[0m                 \u001b[0mproducts\u001b[0m\u001b[0;34m.\u001b[0m \u001b[0mDefaults\u001b[0m \u001b[0mto\u001b[0m\u001b[0;31m \u001b[0m\u001b[0;31m`\u001b[0m\u001b[0;31m`\u001b[0m\u001b[0;32mFalse\u001b[0m\u001b[0;31m`\u001b[0m\u001b[0;31m`\u001b[0m\u001b[0;34m.\u001b[0m\u001b[0;34m\u001b[0m\u001b[0m\n\u001b[1;32m     92\u001b[0m         \"\"\"\n\u001b[0;32m---> 93\u001b[0;31m         \u001b[0mtorch\u001b[0m\u001b[0;34m.\u001b[0m\u001b[0mautograd\u001b[0m\u001b[0;34m.\u001b[0m\u001b[0mbackward\u001b[0m\u001b[0;34m(\u001b[0m\u001b[0mself\u001b[0m\u001b[0;34m,\u001b[0m \u001b[0mgradient\u001b[0m\u001b[0;34m,\u001b[0m \u001b[0mretain_graph\u001b[0m\u001b[0;34m,\u001b[0m \u001b[0mcreate_graph\u001b[0m\u001b[0;34m)\u001b[0m\u001b[0;34m\u001b[0m\u001b[0m\n\u001b[0m\u001b[1;32m     94\u001b[0m \u001b[0;34m\u001b[0m\u001b[0m\n\u001b[1;32m     95\u001b[0m     \u001b[0;32mdef\u001b[0m \u001b[0mregister_hook\u001b[0m\u001b[0;34m(\u001b[0m\u001b[0mself\u001b[0m\u001b[0;34m,\u001b[0m \u001b[0mhook\u001b[0m\u001b[0;34m)\u001b[0m\u001b[0;34m:\u001b[0m\u001b[0;34m\u001b[0m\u001b[0m\n",
      "\u001b[0;32m/media/vince/anaconda3/envs/xray/lib/python3.6/site-packages/torch/autograd/__init__.py\u001b[0m in \u001b[0;36mbackward\u001b[0;34m(tensors, grad_tensors, retain_graph, create_graph, grad_variables)\u001b[0m\n\u001b[1;32m     88\u001b[0m     Variable._execution_engine.run_backward(\n\u001b[1;32m     89\u001b[0m         \u001b[0mtensors\u001b[0m\u001b[0;34m,\u001b[0m \u001b[0mgrad_tensors\u001b[0m\u001b[0;34m,\u001b[0m \u001b[0mretain_graph\u001b[0m\u001b[0;34m,\u001b[0m \u001b[0mcreate_graph\u001b[0m\u001b[0;34m,\u001b[0m\u001b[0;34m\u001b[0m\u001b[0m\n\u001b[0;32m---> 90\u001b[0;31m         allow_unreachable=True)  # allow_unreachable flag\n\u001b[0m\u001b[1;32m     91\u001b[0m \u001b[0;34m\u001b[0m\u001b[0m\n\u001b[1;32m     92\u001b[0m \u001b[0;34m\u001b[0m\u001b[0m\n",
      "\u001b[0;31mKeyboardInterrupt\u001b[0m: "
     ]
    }
   ],
   "source": [
    "from torch.autograd import Variable\n",
    "\n",
    "\n",
    "ConstantZ = torch.randn(9,LS,1,1)\n",
    "\n",
    "cpt = 0\n",
    "\n",
    "criterion = nn.BCELoss()\n",
    "for epoch in range(2):\n",
    "    \n",
    "    #Store Discriminator data\n",
    "    AllRealDisc = []\n",
    "    AllFakeDisc = []\n",
    "    \n",
    "    \n",
    "    c = 0\n",
    "    for dataiter in dataloader:\n",
    "        c += 1\n",
    "        \n",
    "        #Get Data\n",
    "        Xnorm = dataiter *2.0 - 1.0\n",
    "        #print(c,Xnorm.shape)\n",
    "        #To cuda\n",
    "        if torch.cuda.is_available():\n",
    "            Xnorm = Xnorm.cuda()\n",
    "        \n",
    "        #Get Batch Size\n",
    "        BS = Xnorm.shape[0]\n",
    "        if BS < batch_size/2.0:\n",
    "            continue\n",
    "        \n",
    "        #Generate Fake data from random Latent\n",
    "        FakeZ = torch.randn(BS,LS,1,1)\n",
    "        FakeX = GenX(FakeZ)\n",
    "        \n",
    "        #Generate Latent from Real\n",
    "        RealZ = GenZ(Xnorm)\n",
    "        \n",
    "        #Have discriminator do is thing on real and fake data\n",
    "        RealCat= torch.cat((DisZ(RealZ), DisX(Xnorm)), 1)\n",
    "        FakeCat= torch.cat((DisZ(FakeZ), DisX(FakeX)), 1)\n",
    "        PredReal  = DisXZ(RealCat)\n",
    "        PredFalse = DisXZ(FakeCat)\n",
    "        \n",
    "        #Get loss for discriminator\n",
    "        loss_d = criterion(PredReal.view(-1), Variable(torch.ones(BS)-0.1)) + criterion(PredFalse.view(-1), Variable(torch.zeros(BS)))\n",
    "\n",
    "        #Get loss for generator\n",
    "        loss_g = criterion(PredFalse.view(-1), Variable(torch.ones(BS)-0.1)) + criterion(PredReal.view(-1), Variable(torch.zeros(BS)))\n",
    "\n",
    "        #Optimize Discriminator\n",
    "        \n",
    "        optimizerD.zero_grad()\n",
    "        loss_d.backward(retain_graph=True)\n",
    "        optimizerD.step()\n",
    "    \n",
    "        #Optimize Generator\n",
    "        \n",
    "        optimizerG.zero_grad()\n",
    "        loss_g.backward()\n",
    "        optimizerG.step()\n",
    "    \n",
    "    \n",
    "        #StoreInfo\n",
    "        DiscriminatorLoss.append(loss_d.detach().numpy()+0)\n",
    "        AllRealDisc = list(np.ravel(PredReal.detach().numpy()))\n",
    "        AllFakeDisc = list(np.ravel(PredFalse.detach().numpy()))\n",
    "        \n",
    "        \n",
    "        \n",
    "    if epoch % 1 == 0:\n",
    "        with torch.no_grad():\n",
    "            FakeData = GenX(ConstantZ).detach().numpy()\n",
    "            plt.imshow(FakeData[0][0])\n",
    "            plt.title(\"Epoch %d\" % (epoch))\n",
    "            plt.show()\n",
    "\n",
    "            plt.imshow(data[0][0])\n",
    "            plt.title(\"Epoch %d\" % (epoch))\n",
    "            plt.show()\n",
    "\n",
    "\n",
    "            #print(\"Epoch:%d AUC:%.2f\" % (epoch,auc))\n",
    "\n",
    "            plt.hist(AllRealDisc,bins=np.array(range(20))/20,label=\"Real\")\n",
    "            plt.hist(AllFakeDisc,np.array(range(20))/20,label=\"False\")\n",
    "            plt.legend()\n",
    "            plt.show()\n",
    "\n",
    "\n",
    "            plt.plot(range(len(DiscriminatorLoss)),DiscriminatorLoss)\n",
    "            plt.show()\n",
    "\n"
   ]
  },
  {
   "cell_type": "code",
   "execution_count": 12,
   "metadata": {},
   "outputs": [],
   "source": [
    "with torch.no_grad():\n",
    "    FakeData = GenX(ConstantZ)\n",
    "\n",
    "    PredFalse = DisXZ(torch.cat((DisZ(ConstantZ), DisX(FakeData)), 1))\n",
    "\n",
    "\n",
    "    FakeData = FakeData.detach().numpy()\n",
    "    PredFalse= PredFalse.detach().numpy()"
   ]
  },
  {
   "cell_type": "code",
   "execution_count": null,
   "metadata": {},
   "outputs": [],
   "source": []
  },
  {
   "cell_type": "code",
   "execution_count": 13,
   "metadata": {},
   "outputs": [
    {
     "data": {
      "image/png": "[encoded data removed]",
      "text/plain": [
       "<Figure size 576x576 with 9 Axes>"
      ]
     },
     "metadata": {
      "needs_background": "light"
     },
     "output_type": "display_data"
    }
   ],
   "source": [
    "\n",
    "plt.figure(figsize=(8,8))\n",
    "\n",
    "c = 0\n",
    "for i in range(9):\n",
    "    c +=1\n",
    "    #print(fd.shape)\n",
    "    plt.subplot(3,3,c)\n",
    "    plt.imshow(FakeData[i][0],cmap=\"gray\")\n",
    "    plt.title(\"Disc=%.2f\" % (PredFalse[i]))\n",
    "    plt.axis(\"off\")\n",
    "plt.show()"
   ]
  },
  {
   "cell_type": "code",
   "execution_count": 72,
   "metadata": {
    "scrolled": false
   },
   "outputs": [
    {
     "data": {
      "image/png": "[encoded data removed]",
      "text/plain": [
       "<Figure size 576x576 with 9 Axes>"
      ]
     },
     "metadata": {
      "needs_background": "light"
     },
     "output_type": "display_data"
    }
   ],
   "source": [
    "from matplotlib.colors import ListedColormap\n",
    "\n",
    "# Get the colormap colors\n",
    "cmap = plt.cm.Reds\n",
    "AlphaRed = cmap(np.arange(cmap.N))\n",
    "# Set alpha\n",
    "AlphaRed[:,-1] = np.linspace(0, 1, cmap.N)\n",
    "# Create new colormap\n",
    "AlphaRed = ListedColormap(AlphaRed)\n",
    "\n",
    "for dataiter in ConstantImg:\n",
    "    #Get Data\n",
    "    data = dataiter\n",
    "    Xnorm = data*2.0-1.0\n",
    "    break\n",
    "with torch.no_grad():\n",
    "    #Generate Latent from Real\n",
    "    RealZ = GenZ(Xnorm)\n",
    "    RebuildX = GenX(RealZ)\n",
    "    DiffX = Xnorm - RebuildX\n",
    "    DiffX = DiffX.detach().numpy()\n",
    "    DiffX = np.power(DiffX,2)\n",
    "    RebuildX = RebuildX.detach().numpy()\n",
    "    #Have discriminator do is thing on real and fake data\n",
    "    PredReal  = DisXZ(torch.cat((DisZ(RealZ), DisX(Xnorm)), 1)).detach().numpy()\n",
    "\n",
    "plt.figure(figsize=(8,8))\n",
    "c = 0\n",
    "Sample = 3\n",
    "for i in range(Sample):\n",
    "    c+= 1\n",
    "    plt.subplot(Sample,3,c)\n",
    "    plt.imshow(Xnorm[i][0],cmap=\"gray\")\n",
    "    plt.title(\"Init Disc=%.2f\" % (PredReal[i]))\n",
    "    plt.axis(\"off\")\n",
    "    c+= 1\n",
    "    plt.subplot(Sample,3,c)\n",
    "    plt.imshow(RebuildX[i][0],cmap=\"gray\")\n",
    "    plt.title(\"Reconstruct\")\n",
    "    plt.axis(\"off\")\n",
    "    c+= 1\n",
    "    plt.subplot(Sample,3,c)\n",
    "    plt.imshow(Xnorm[i][0],cmap=\"gray\")\n",
    "    plt.title(\"Rec Error = %.2f\" % (np.mean(DiffX[i][0])))\n",
    "    plt.imshow(DiffX[i][0]*np.power(c,2),cmap=AlphaRed)\n",
    "    plt.axis(\"off\")\n",
    "    \n",
    "    \n",
    "    \n",
    "plt.savefig(\"./test.png\")\n"
   ]
  },
  {
   "cell_type": "code",
   "execution_count": 75,
   "metadata": {},
   "outputs": [
    {
     "data": {
      "text/plain": [
       "[0.5519036,\n",
       " 0.58638394,\n",
       " 0.49782836,\n",
       " 0.435841,\n",
       " 0.4489335,\n",
       " 0.43667305,\n",
       " 0.61524135,\n",
       " 0.6445779,\n",
       " 0.58383906]"
      ]
     },
     "execution_count": 75,
     "metadata": {},
     "output_type": "execute_result"
    }
   ],
   "source": []
  },
  {
   "cell_type": "code",
   "execution_count": 70,
   "metadata": {},
   "outputs": [
    {
     "ename": "ValueError",
     "evalue": "cannot reshape array of size 9216 into shape (9,)",
     "output_type": "error",
     "traceback": [
      "\u001b[0;31m---------------------------------------------------------------------------\u001b[0m",
      "\u001b[0;31mValueError\u001b[0m                                Traceback (most recent call last)",
      "\u001b[0;32m<ipython-input-70-094b7cdf6e84>\u001b[0m in \u001b[0;36m<module>\u001b[0;34m\u001b[0m\n\u001b[0;32m----> 1\u001b[0;31m \u001b[0mnp\u001b[0m\u001b[0;34m.\u001b[0m\u001b[0mreshape\u001b[0m\u001b[0;34m(\u001b[0m\u001b[0mDiffX\u001b[0m\u001b[0;34m,\u001b[0m\u001b[0;34m[\u001b[0m\u001b[0;36m9\u001b[0m\u001b[0;34m]\u001b[0m\u001b[0;34m)\u001b[0m\u001b[0;34m\u001b[0m\u001b[0m\n\u001b[0m",
      "\u001b[0;32m/media/vince/anaconda3/envs/xray/lib/python3.6/site-packages/numpy/core/fromnumeric.py\u001b[0m in \u001b[0;36mreshape\u001b[0;34m(a, newshape, order)\u001b[0m\n\u001b[1;32m    277\u001b[0m            [5, 6]])\n\u001b[1;32m    278\u001b[0m     \"\"\"\n\u001b[0;32m--> 279\u001b[0;31m     \u001b[0;32mreturn\u001b[0m \u001b[0m_wrapfunc\u001b[0m\u001b[0;34m(\u001b[0m\u001b[0ma\u001b[0m\u001b[0;34m,\u001b[0m \u001b[0;34m'reshape'\u001b[0m\u001b[0;34m,\u001b[0m \u001b[0mnewshape\u001b[0m\u001b[0;34m,\u001b[0m \u001b[0morder\u001b[0m\u001b[0;34m=\u001b[0m\u001b[0morder\u001b[0m\u001b[0;34m)\u001b[0m\u001b[0;34m\u001b[0m\u001b[0m\n\u001b[0m\u001b[1;32m    280\u001b[0m \u001b[0;34m\u001b[0m\u001b[0m\n\u001b[1;32m    281\u001b[0m \u001b[0;34m\u001b[0m\u001b[0m\n",
      "\u001b[0;32m/media/vince/anaconda3/envs/xray/lib/python3.6/site-packages/numpy/core/fromnumeric.py\u001b[0m in \u001b[0;36m_wrapfunc\u001b[0;34m(obj, method, *args, **kwds)\u001b[0m\n\u001b[1;32m     49\u001b[0m \u001b[0;32mdef\u001b[0m \u001b[0m_wrapfunc\u001b[0m\u001b[0;34m(\u001b[0m\u001b[0mobj\u001b[0m\u001b[0;34m,\u001b[0m \u001b[0mmethod\u001b[0m\u001b[0;34m,\u001b[0m \u001b[0;34m*\u001b[0m\u001b[0margs\u001b[0m\u001b[0;34m,\u001b[0m \u001b[0;34m**\u001b[0m\u001b[0mkwds\u001b[0m\u001b[0;34m)\u001b[0m\u001b[0;34m:\u001b[0m\u001b[0;34m\u001b[0m\u001b[0m\n\u001b[1;32m     50\u001b[0m     \u001b[0;32mtry\u001b[0m\u001b[0;34m:\u001b[0m\u001b[0;34m\u001b[0m\u001b[0m\n\u001b[0;32m---> 51\u001b[0;31m         \u001b[0;32mreturn\u001b[0m \u001b[0mgetattr\u001b[0m\u001b[0;34m(\u001b[0m\u001b[0mobj\u001b[0m\u001b[0;34m,\u001b[0m \u001b[0mmethod\u001b[0m\u001b[0;34m)\u001b[0m\u001b[0;34m(\u001b[0m\u001b[0;34m*\u001b[0m\u001b[0margs\u001b[0m\u001b[0;34m,\u001b[0m \u001b[0;34m**\u001b[0m\u001b[0mkwds\u001b[0m\u001b[0;34m)\u001b[0m\u001b[0;34m\u001b[0m\u001b[0m\n\u001b[0m\u001b[1;32m     52\u001b[0m \u001b[0;34m\u001b[0m\u001b[0m\n\u001b[1;32m     53\u001b[0m     \u001b[0;31m# An AttributeError occurs if the object does not have\u001b[0m\u001b[0;34m\u001b[0m\u001b[0;34m\u001b[0m\u001b[0m\n",
      "\u001b[0;31mValueError\u001b[0m: cannot reshape array of size 9216 into shape (9,)"
     ]
    }
   ],
   "source": [
    "np.reshape(DiffX,[9])"
   ]
  },
  {
   "cell_type": "code",
   "execution_count": 63,
   "metadata": {},
   "outputs": [
    {
     "data": {
      "text/plain": [
       "array([[[7.91102886e-01, 7.90304661e-01, 8.27766716e-01, ...,\n",
       "         6.08030796e-01, 6.90750599e-01, 7.92542040e-01],\n",
       "        [8.29749644e-01, 8.57083201e-01, 8.08341682e-01, ...,\n",
       "         1.48611337e-01, 2.32502609e-01, 4.45381224e-01],\n",
       "        [7.59679675e-01, 5.77773869e-01, 4.31885570e-01, ...,\n",
       "         1.13106975e-02, 1.73508152e-02, 6.38258904e-02],\n",
       "        ...,\n",
       "        [9.55639243e-01, 5.08781731e-01, 4.63721976e-02, ...,\n",
       "         1.17674768e-02, 4.52275090e-02, 2.83790860e-06],\n",
       "        [9.06709254e-01, 5.01902282e-01, 3.18781734e-02, ...,\n",
       "         3.90838385e-02, 3.88724022e-02, 4.71003841e-05],\n",
       "        [2.97056139e-01, 3.98451090e-02, 1.00214556e-01, ...,\n",
       "         3.51571245e-04, 1.16837732e-01, 4.23951223e-02]],\n",
       "\n",
       "       [[9.72545266e-01, 1.03344750e+00, 1.05464149e+00, ...,\n",
       "         1.02962947e+00, 9.95076776e-01, 1.01633370e+00],\n",
       "        [1.02372706e+00, 1.08454561e+00, 1.08248878e+00, ...,\n",
       "         9.68829751e-01, 9.73321319e-01, 1.03967714e+00],\n",
       "        [8.45152318e-01, 9.85163450e-01, 1.12503147e+00, ...,\n",
       "         8.03315997e-01, 9.70874488e-01, 1.05650580e+00],\n",
       "        ...,\n",
       "        [4.74082291e-01, 2.42752805e-01, 1.61953047e-02, ...,\n",
       "         2.10954502e-01, 4.09622788e-02, 5.19872224e-03],\n",
       "        [2.54585177e-01, 1.61160246e-01, 6.81545166e-03, ...,\n",
       "         2.65359998e-01, 7.59855509e-02, 9.19560494e-04],\n",
       "        [4.88303788e-02, 2.65992730e-06, 7.77780265e-02, ...,\n",
       "         4.14216638e-01, 2.32141480e-01, 8.11103210e-02]],\n",
       "\n",
       "       [[9.25364077e-01, 9.75641191e-01, 1.05156922e+00, ...,\n",
       "         9.93788362e-01, 9.48212266e-01, 9.85366166e-01],\n",
       "        [1.02595866e+00, 1.03787982e+00, 1.05473185e+00, ...,\n",
       "         9.58021879e-01, 9.52931523e-01, 1.02257931e+00],\n",
       "        [9.92403567e-01, 9.25144255e-01, 9.97419238e-01, ...,\n",
       "         1.02946937e+00, 9.58395422e-01, 1.03202009e+00],\n",
       "        ...,\n",
       "        [2.63571390e-03, 3.75285111e-02, 6.73942566e-02, ...,\n",
       "         1.00178346e-01, 4.35633287e-02, 1.93648525e-02],\n",
       "        [3.40723842e-02, 2.21308824e-02, 6.34659007e-02, ...,\n",
       "         1.01382867e-01, 5.16694523e-02, 2.88563352e-02],\n",
       "        [1.07458100e-01, 1.13674076e-02, 5.32070436e-02, ...,\n",
       "         9.46880803e-02, 5.27865365e-02, 2.69016623e-02]],\n",
       "\n",
       "       ...,\n",
       "\n",
       "       [[5.51946938e-01, 9.57136750e-01, 1.01981580e+00, ...,\n",
       "         9.54883099e-01, 9.11176682e-01, 9.52091396e-01],\n",
       "        [4.33374316e-01, 9.32277024e-01, 9.16548252e-01, ...,\n",
       "         9.88787651e-01, 9.56539929e-01, 1.02900350e+00],\n",
       "        [8.26023170e-04, 2.21303955e-01, 3.21107924e-01, ...,\n",
       "         9.45518792e-01, 9.71692026e-01, 1.04752386e+00],\n",
       "        ...,\n",
       "        [9.43393588e-01, 4.72740680e-01, 1.43529377e-07, ...,\n",
       "         8.47769201e-01, 9.85250533e-01, 9.79389310e-01],\n",
       "        [9.26447630e-01, 6.35312617e-01, 1.58860851e-02, ...,\n",
       "         8.59520376e-01, 9.95024085e-01, 9.45507526e-01],\n",
       "        [8.88474345e-01, 5.75313568e-01, 7.10300775e-03, ...,\n",
       "         8.60844791e-01, 9.96692300e-01, 9.90027845e-01]],\n",
       "\n",
       "       [[1.01673222e+00, 1.02285707e+00, 1.06314147e+00, ...,\n",
       "         1.01976192e+00, 9.86545205e-01, 9.99395132e-01],\n",
       "        [8.84842455e-01, 9.51760352e-01, 9.60549116e-01, ...,\n",
       "         1.00503409e+00, 9.67549324e-01, 1.04331541e+00],\n",
       "        [1.39072403e-01, 2.75435299e-01, 3.97780210e-01, ...,\n",
       "         6.38095975e-01, 7.38691032e-01, 9.52981055e-01],\n",
       "        ...,\n",
       "        [1.08622348e+00, 5.18112540e-01, 4.08482039e-03, ...,\n",
       "         5.92902422e-01, 1.00021505e+00, 9.94114757e-01],\n",
       "        [1.08171320e+00, 6.33505166e-01, 3.00062653e-02, ...,\n",
       "         5.81902921e-01, 1.01027536e+00, 9.62568104e-01],\n",
       "        [1.05857909e+00, 5.50934374e-01, 7.91892316e-03, ...,\n",
       "         5.24965823e-01, 1.01364017e+00, 1.00762427e+00]],\n",
       "\n",
       "       [[8.86634827e-01, 1.02443612e+00, 1.08974421e+00, ...,\n",
       "         1.00963068e+00, 9.81094301e-01, 1.01528668e+00],\n",
       "        [9.64782000e-01, 1.05908394e+00, 1.07856512e+00, ...,\n",
       "         6.18984401e-01, 8.90860677e-01, 1.04729497e+00],\n",
       "        [6.30369246e-01, 7.25726187e-01, 6.01837873e-01, ...,\n",
       "         1.42707199e-01, 4.90411639e-01, 1.05285001e+00],\n",
       "        ...,\n",
       "        [1.04430437e+00, 1.04152203e+00, 7.05653012e-01, ...,\n",
       "         8.97505522e-01, 1.00044346e+00, 9.94884372e-01],\n",
       "        [1.03026366e+00, 1.06584215e+00, 8.52827728e-01, ...,\n",
       "         9.33050215e-01, 1.00310755e+00, 9.58680212e-01],\n",
       "        [1.01409531e+00, 9.74378884e-01, 5.70953906e-01, ...,\n",
       "         8.81978273e-01, 1.01840091e+00, 1.00375462e+00]]], dtype=float32)"
      ]
     },
     "execution_count": 63,
     "metadata": {},
     "output_type": "execute_result"
    }
   ],
   "source": [
    "np.mean(DiffX,axis=1)"
   ]
  },
  {
   "cell_type": "code",
   "execution_count": 16,
   "metadata": {},
   "outputs": [],
   "source": [
    "import torchvision.datasets as dset"
   ]
  },
  {
   "cell_type": "code",
   "execution_count": null,
   "metadata": {},
   "outputs": [],
   "source": [
    "transforms.ToPILImage(),\n",
    "    transforms.Resize(inputsize),\n",
    "    transforms.ToTensor(),"
   ]
  },
  {
   "cell_type": "code",
   "execution_count": 58,
   "metadata": {},
   "outputs": [
    {
     "data": {
      "text/plain": [
       "torch.Size([9, 1, 32, 32])"
      ]
     },
     "execution_count": 58,
     "metadata": {},
     "output_type": "execute_result"
    }
   ],
   "source": [
    "Xnorm.shape"
   ]
  },
  {
   "cell_type": "code",
   "execution_count": 59,
   "metadata": {},
   "outputs": [
    {
     "name": "stdout",
     "output_type": "stream",
     "text": [
      "torch.Size([9, 1, 32, 32])\n"
     ]
    }
   ],
   "source": [
    "#Load MNIST\n",
    "#MNIST\n",
    "\n",
    "transform = transforms.Compose([\n",
    "                    transforms.Resize([32,32]),\n",
    "                    transforms.ToTensor()])\n",
    "\n",
    "MNIST_set = dset.MNIST(root=\"./model/default/\", train=True, transform=transform, download=True)\n",
    "MNIST_loader = torch.utils.data.DataLoader(dataset=MNIST_set,batch_size=9,shuffle=False)\n",
    "\n",
    "for mnist,lab in MNIST_loader:\n",
    "    print(mnist.shape)\n",
    "    break"
   ]
  },
  {
   "cell_type": "code",
   "execution_count": 38,
   "metadata": {},
   "outputs": [
    {
     "data": {
      "text/plain": [
       "(9, 1, 32, 32)"
      ]
     },
     "execution_count": 38,
     "metadata": {},
     "output_type": "execute_result"
    }
   ],
   "source": [
    "FakeData.shape"
   ]
  },
  {
   "cell_type": "code",
   "execution_count": 57,
   "metadata": {},
   "outputs": [
    {
     "data": {
      "text/plain": [
       "<matplotlib.image.AxesImage at 0x7f7f96a66d30>"
      ]
     },
     "execution_count": 57,
     "metadata": {},
     "output_type": "execute_result"
    },
    {
     "data": {
      "image/png": "[encoded data removed]",
      "text/plain": [
       "<Figure size 432x288 with 1 Axes>"
      ]
     },
     "metadata": {
      "needs_background": "light"
     },
     "output_type": "display_data"
    }
   ],
   "source": [
    "plt.imshow(mnist[0][0].detach().numpy())"
   ]
  },
  {
   "cell_type": "code",
   "execution_count": null,
   "metadata": {},
   "outputs": [],
   "source": []
  },
  {
   "cell_type": "code",
   "execution_count": 15,
   "metadata": {},
   "outputs": [],
   "source": [
    "from sklearn import manifold\n",
    "Xr = RealZ.detach().numpy()\n",
    "Xr.resize((Xr.shape[:2]))\n",
    "\n",
    "\n",
    "Xf = ConstantZ.detach().numpy()\n",
    "Xf.resize((Xf.shape[:2]))\n",
    "\n",
    "X = np.concatenate((Xf,Xr))\n",
    "\n",
    "tsne = manifold.TSNE(n_components=2, init='random',\n",
    "                     random_state=0, perplexity=5)\n",
    "Y = tsne.fit_transform(X)"
   ]
  },
  {
   "cell_type": "code",
   "execution_count": 16,
   "metadata": {},
   "outputs": [
    {
     "data": {
      "text/plain": [
       "<matplotlib.collections.PathCollection at 0x7fe98ca7a9e8>"
      ]
     },
     "execution_count": 16,
     "metadata": {},
     "output_type": "execute_result"
    },
    {
     "data": {
      "image/png": "[encoded data removed]",
      "text/plain": [
       "<Figure size 432x288 with 1 Axes>"
      ]
     },
     "metadata": {
      "needs_background": "light"
     },
     "output_type": "display_data"
    }
   ],
   "source": [
    "plt.scatter(Y[:Xr.shape[0],0],Y[:Xr.shape[0],1],c=\"red\")\n",
    "plt.scatter(Y[Xr.shape[0]:,0],Y[Xr.shape[0]:,1],c=\"blue\")"
   ]
  },
  {
   "cell_type": "code",
   "execution_count": 17,
   "metadata": {},
   "outputs": [
    {
     "data": {
      "text/plain": [
       "<matplotlib.collections.PathCollection at 0x7fe98c65a278>"
      ]
     },
     "execution_count": 17,
     "metadata": {},
     "output_type": "execute_result"
    },
    {
     "data": {
      "image/png": "[encoded data removed]",
      "text/plain": [
       "<Figure size 432x288 with 1 Axes>"
      ]
     },
     "metadata": {
      "needs_background": "light"
     },
     "output_type": "display_data"
    }
   ],
   "source": [
    "plt.scatter(Xr[:,0],Xr[:,1],c=\"red\")\n",
    "plt.scatter(Xf[:,0],Xf[:,1],c=\"blue\")"
   ]
  },
  {
   "cell_type": "code",
   "execution_count": null,
   "metadata": {},
   "outputs": [],
   "source": []
  }
 ],
 "metadata": {
  "kernelspec": {
   "display_name": "Python [conda env:xray]",
   "language": "python",
   "name": "conda-env-xray-py"
  },
  "language_info": {
   "codemirror_mode": {
    "name": "ipython",
    "version": 3
   },
   "file_extension": ".py",
   "mimetype": "text/x-python",
   "name": "python",
   "nbconvert_exporter": "python",
   "pygments_lexer": "ipython3",
   "version": "3.6.6"
  }
 },
 "nbformat": 4,
 "nbformat_minor": 2
}
