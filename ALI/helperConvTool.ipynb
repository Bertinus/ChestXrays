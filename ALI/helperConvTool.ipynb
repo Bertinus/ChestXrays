{
 "cells": [
  {
   "cell_type": "code",
   "execution_count": 2,
   "metadata": {},
   "outputs": [],
   "source": [
    "import numpy as np"
   ]
  },
  {
   "cell_type": "code",
   "execution_count": 13,
   "metadata": {},
   "outputs": [
    {
     "name": "stdout",
     "output_type": "stream",
     "text": [
      "[7.0, 14.0, 28.0, 56.0, 112.0, 224.0]\n",
      "Layer=0 Dim=1 TargetDim=7\n",
      "Stride = 1 NKS = 7.000000\n",
      "Stride = 2 NKS = 7.000000\n",
      "Stride = 3 NKS = 7.000000\n",
      "Stride = 4 NKS = 7.000000\n",
      "Stride = 5 NKS = 7.000000\n",
      "Stride = 6 NKS = 7.000000\n",
      "Stride = 7 NKS = 7.000000\n",
      "Stride = 8 NKS = 7.000000\n",
      "Stride = 9 NKS = 7.000000\n",
      "Layer=1 Dim=7 TargetDim=14\n",
      "Stride = 1 NKS = 8.000000\n",
      "Stride = 2 NKS = 2.000000\n",
      "Layer=2 Dim=14 TargetDim=28\n",
      "Stride = 1 NKS = 15.000000\n",
      "Stride = 2 NKS = 2.000000\n",
      "Layer=3 Dim=28 TargetDim=56\n",
      "Stride = 1 NKS = 29.000000\n",
      "Stride = 2 NKS = 2.000000\n",
      "Layer=4 Dim=56 TargetDim=112\n",
      "Stride = 1 NKS = 57.000000\n",
      "Stride = 2 NKS = 2.000000\n",
      "Layer=5 Dim=112 TargetDim=224\n",
      "Stride = 1 NKS = 113.000000\n",
      "Stride = 2 NKS = 2.000000\n"
     ]
    }
   ],
   "source": [
    "#Network Architecture helper tool\n",
    "\n",
    "NbsOfLayer = 6\n",
    "TargetDims = [224/np.power(2,i) for i in range(NbsOfLayer)][::-1]\n",
    "print(TargetDims)\n",
    "padding = 0\n",
    "output_pading = 0\n",
    "Dim = 1\n",
    "for i in range(NbsOfLayer):\n",
    "    print(\"Layer=%d Dim=%d TargetDim=%d\" %(i,Dim,TargetDims[i]))\n",
    "    for ts in range(1,10):\n",
    "        NewKS = TargetDims[i]-(Dim-1)*ts + 2*padding - output_pading\n",
    "        if (NewKS < 200) & (NewKS > 0):\n",
    "            print(\"Stride = %d NKS = %f\" % (ts,NewKS))\n",
    "    Dim = TargetDims[i]"
   ]
  },
  {
   "cell_type": "code",
   "execution_count": 43,
   "metadata": {},
   "outputs": [
    {
     "name": "stdout",
     "output_type": "stream",
     "text": [
      "DIM=1 TargetDim=12\n",
      "KS=4 Stride=1\n",
      "Stride = 1 NKS = 12.000000\n",
      "Stride = 2 NKS = 12.000000\n",
      "Stride = 3 NKS = 12.000000\n",
      "NowDim=4\n",
      "\n",
      "DIM=4 TargetDim=24\n",
      "KS=8 Stride=1\n",
      "Stride = 1 NKS = 21.000000\n",
      "Stride = 2 NKS = 18.000000\n",
      "Stride = 3 NKS = 15.000000\n",
      "NowDim=11\n",
      "\n",
      "DIM=11 TargetDim=28\n",
      "KS=8 Stride=2\n",
      "Stride = 1 NKS = 18.000000\n",
      "Stride = 2 NKS = 8.000000\n",
      "NowDim=28\n",
      "\n",
      "DIM=28 TargetDim=56\n",
      "KS=4 Stride=2\n",
      "Stride = 1 NKS = 29.000000\n",
      "Stride = 2 NKS = 2.000000\n",
      "NowDim=58\n",
      "\n",
      "DIM=58 TargetDim=112\n",
      "KS=4 Stride=1\n",
      "Stride = 1 NKS = 55.000000\n",
      "NowDim=61\n",
      "\n",
      "DIM=61 TargetDim=175\n",
      "KS=4 Stride=2\n",
      "Stride = 1 NKS = 115.000000\n",
      "Stride = 2 NKS = 55.000000\n",
      "NowDim=124\n",
      "\n",
      "DIM=124 TargetDim=224\n",
      "KS=4 Stride=2\n",
      "Stride = 1 NKS = 101.000000\n",
      "NowDim=250\n",
      "\n"
     ]
    }
   ],
   "source": [
    "\n",
    "\n",
    "\n",
    "KS = [4,8,8,4,4,4,4]\n",
    "ST = [1,1,2,2,1,2,2]\n",
    "\n",
    "TargetDims = [12,24,28,56,112,175,224]\n",
    "\n",
    "\n",
    "padding = 0\n",
    "output_pading = 0\n",
    "TargetDim = 224\n",
    "Dim = 1\n",
    "for i in range(len(KS)):\n",
    "    print(\"DIM=%d TargetDim=%d\" % (Dim,TargetDims[i]))\n",
    "    \n",
    "    \n",
    "    kernel_size = KS[i]\n",
    "    stride = ST[i]\n",
    "    print(\"KS=%d Stride=%s\" % (kernel_size,stride))\n",
    "    for ts in range(1,4):\n",
    "        NewKS = TargetDims[i]-(Dim-1)*ts + 2*padding - output_pading\n",
    "        if (NewKS < 500) & (NewKS > 0):\n",
    "            print(\"Stride = %d NKS = %f\" % (ts,NewKS))\n",
    "    \n",
    "    \n",
    "    Dim = (Dim-1)*stride+kernel_size - 2*padding + output_pading\n",
    "    print(\"NowDim=%d\" % (Dim))\n",
    "    print()"
   ]
  },
  {
   "cell_type": "code",
   "execution_count": null,
   "metadata": {},
   "outputs": [],
   "source": []
  }
 ],
 "metadata": {
  "kernelspec": {
   "display_name": "Python [conda env:xray]",
   "language": "python",
   "name": "conda-env-xray-py"
  },
  "language_info": {
   "codemirror_mode": {
    "name": "ipython",
    "version": 3
   },
   "file_extension": ".py",
   "mimetype": "text/x-python",
   "name": "python",
   "nbconvert_exporter": "python",
   "pygments_lexer": "ipython3",
   "version": "3.6.6"
  }
 },
 "nbformat": 4,
 "nbformat_minor": 2
}
